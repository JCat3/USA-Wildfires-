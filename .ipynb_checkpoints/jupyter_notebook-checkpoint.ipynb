{
 "cells": [
  {
   "cell_type": "code",
   "execution_count": null,
   "metadata": {},
   "outputs": [],
   "source": [
    "#import libraries\n",
    "import pandas as pd\n",
    "from sqlalchemy import create_engine  "
   ]
  },
  {
   "cell_type": "code",
   "execution_count": null,
   "metadata": {},
   "outputs": [],
   "source": [
    "#load CSV file for Wildfire data from Kaggle\n",
    "csv_file = \"Wildfire Data/FW_Veg_Rem_Combined.csv\"\n",
    "wildfire_df = pd.read_csv(csv_file)\n",
    "wildfire_df.head()"
   ]
  },
  {
   "cell_type": "code",
   "execution_count": null,
   "metadata": {},
   "outputs": [],
   "source": [
    "wildfire_df.count()"
   ]
  },
  {
   "cell_type": "code",
   "execution_count": null,
   "metadata": {},
   "outputs": [],
   "source": [
    "#drop unnamed columns\n",
    "wildfire_df = wildfire_df[[\"fire_name\",\n",
    "                        \"fire_size\",\n",
    "                        \"fire_size_class\",\n",
    "                        \"stat_cause_descr\",\n",
    "                        \"latitude\",         \n",
    "                        \"longitude\",           \n",
    "                        \"state\",              \n",
    "                        \"disc_clean_date\",   \n",
    "                        \"cont_clean_date\",    \n",
    "                        \"discovery_month\",   \n",
    "                        \"disc_date_final\",    \n",
    "                        \"cont_date_final\",     \n",
    "                        \"putout_time\",      \n",
    "                        \"disc_date_pre\",      \n",
    "                        \"disc_pre_year\",     \n",
    "                        \"disc_pre_month\",      \n",
    "                        \"wstation_usaf\",       \n",
    "                        \"dstation_m\",      \n",
    "                        \"wstation_wban\",     \n",
    "                        \"wstation_byear\",     \n",
    "                        \"wstation_eyear\",      \n",
    "                        \"Vegetation\",          \n",
    "                        \"fire_mag\",       \n",
    "                        \"weather_file\",        \n",
    "                        \"Temp_pre_30\",        \n",
    "                        \"Temp_pre_15\",         \n",
    "                        \"Temp_pre_7\",          \n",
    "                        \"Temp_cont\",        \n",
    "                        \"Wind_pre_30\",        \n",
    "                        \"Wind_pre_15\",         \n",
    "                        \"Wind_pre_7\",          \n",
    "                        \"Wind_cont\",         \n",
    "                        \"Hum_pre_30\",         \n",
    "                        \"Hum_pre_15\",          \n",
    "                        \"Hum_pre_7\",           \n",
    "                        \"Hum_cont\",      \n",
    "                        \"Prec_pre_30\",        \n",
    "                        \"Prec_pre_15\",         \n",
    "                        \"Prec_pre_7\",          \n",
    "                        \"Prec_cont\",           \n",
    "                        \"remoteness\"]]\n",
    "wildfire_df"
   ]
  },
  {
   "cell_type": "code",
   "execution_count": null,
   "metadata": {},
   "outputs": [],
   "source": []
  }
 ],
 "metadata": {
  "kernelspec": {
   "display_name": "Python 3",
   "language": "python",
   "name": "python3"
  },
  "language_info": {
   "codemirror_mode": {
    "name": "ipython",
    "version": 3
   },
   "file_extension": ".py",
   "mimetype": "text/x-python",
   "name": "python",
   "nbconvert_exporter": "python",
   "pygments_lexer": "ipython3",
   "version": "3.8.8"
  }
 },
 "nbformat": 4,
 "nbformat_minor": 2
}
