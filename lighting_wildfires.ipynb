{
 "cells": [
  {
   "cell_type": "markdown",
   "id": "27b38187-98aa-4fcb-bc6b-00aaae39cf97",
   "metadata": {},
   "source": [
    "# Lighting Wildfires"
   ]
  },
  {
   "cell_type": "markdown",
   "id": "aff9ebde-407d-420c-a99b-a9ad206f96d5",
   "metadata": {},
   "source": [
    "#### Dependencies"
   ]
  },
  {
   "cell_type": "code",
   "execution_count": 1,
   "id": "1738c060-7b78-4a8c-bb2e-d2da26cfc628",
   "metadata": {},
   "outputs": [],
   "source": [
    "from config import gkey\n",
    "import gmaps\n",
    "import numpy as np\n",
    "import pandas as pd\n",
    "import requests\n",
    "from datetime import datetime as dt\n",
    "from datetime import timedelta as td\n",
    "import time\n",
    "from scipy.stats import linregress\n",
    "from matplotlib import pyplot as plt"
   ]
  },
  {
   "cell_type": "markdown",
   "id": "4fb4bb7b-89a6-4f67-9c81-2731eae2a97c",
   "metadata": {},
   "source": [
    "## Create DataFrame from csv \n",
    "Selecting perferred column to speed up compute time"
   ]
  },
  {
   "cell_type": "code",
   "execution_count": 2,
   "id": "c002b338-9c94-4fa2-aa80-382cd6932e60",
   "metadata": {},
   "outputs": [
    {
     "name": "stdout",
     "output_type": "stream",
     "text": [
      "(55367, 43)\n",
      "(55367, 8)\n",
      "(8218, 8)\n"
     ]
    }
   ],
   "source": [
    "# Raw Data\n",
    "raw_data = pd.read_csv(\"./Wildfire Data/FW_Veg_Rem_Combined.csv\")\n",
    "print(raw_data.shape)\n",
    "\n",
    "# Only selecting the columns that i want\n",
    "df1 = raw_data[['fire_size', 'fire_size_class', 'stat_cause_descr', 'latitude', 'longitude', 'state', 'disc_date_final', 'cont_date_final' ]]\n",
    "print(df1.shape)\n",
    "\n",
    "# Filtering for 'lighting'\n",
    "df2 = df1.loc[df1['stat_cause_descr'] == 'Lightning',:].copy()\n",
    "print(df2.shape)"
   ]
  },
  {
   "cell_type": "markdown",
   "id": "c21ee2b1-cbf5-4c52-ba8b-981bac9c128c",
   "metadata": {},
   "source": [
    "## Converting date columns to datetime\n",
    "Creating putout_days columns by taking disc_date_final from cont_date_final"
   ]
  },
  {
   "cell_type": "code",
   "execution_count": 3,
   "id": "9201c566-f58f-4317-ae1b-392844e2b7c5",
   "metadata": {},
   "outputs": [
    {
     "data": {
      "text/plain": [
       "fire_size           8218\n",
       "fire_size_class     8218\n",
       "stat_cause_descr    8218\n",
       "latitude            8218\n",
       "longitude           8218\n",
       "state               8218\n",
       "disc_date_final     6497\n",
       "cont_date_final     6181\n",
       "putout_days         6165\n",
       "dtype: int64"
      ]
     },
     "execution_count": 3,
     "metadata": {},
     "output_type": "execute_result"
    }
   ],
   "source": [
    "df2['disc_date_final'] = pd.to_datetime(df2['disc_date_final']).dt.date.copy()\n",
    "df2['cont_date_final'] = pd.to_datetime(df2['cont_date_final']).dt.date.copy()\n",
    "df2['putout_days'] = df2['cont_date_final'] - df2['disc_date_final']\n",
    "df2.count()"
   ]
  },
  {
   "cell_type": "markdown",
   "id": "a249a356-0092-4280-a40a-b0bca97db035",
   "metadata": {},
   "source": [
    "## Dropping all row with NULL/NAT value in the datetime columns"
   ]
  },
  {
   "cell_type": "code",
   "execution_count": 4,
   "id": "e76a389b-f4b5-4097-84ac-6724adc6b0de",
   "metadata": {},
   "outputs": [
    {
     "data": {
      "text/plain": [
       "fire_size           6165\n",
       "fire_size_class     6165\n",
       "stat_cause_descr    6165\n",
       "latitude            6165\n",
       "longitude           6165\n",
       "state               6165\n",
       "disc_date_final     6165\n",
       "cont_date_final     6165\n",
       "putout_days         6165\n",
       "dtype: int64"
      ]
     },
     "execution_count": 4,
     "metadata": {},
     "output_type": "execute_result"
    }
   ],
   "source": [
    "df3 = df2\n",
    "df3.dropna(inplace=True)\n",
    "df3.count()"
   ]
  },
  {
   "cell_type": "markdown",
   "id": "25c4e197-a8fb-4c27-82dd-f5a7968b8592",
   "metadata": {},
   "source": [
    "## Saving to CSV"
   ]
  },
  {
   "cell_type": "code",
   "execution_count": 8,
   "id": "16d56834-e28f-4b52-adbf-f798f916cc14",
   "metadata": {},
   "outputs": [],
   "source": [
    "df3.to_csv(\"./resources - kdmcc/assets/dataKd/lightingFireRaw.csv\", index=False)"
   ]
  },
  {
   "cell_type": "code",
   "execution_count": 11,
   "id": "af38cb07-ca06-485c-a7af-d6b16bdbe00b",
   "metadata": {
    "scrolled": true,
    "tags": []
   },
   "outputs": [
    {
     "data": {
      "text/html": [
       "<div>\n",
       "<style scoped>\n",
       "    .dataframe tbody tr th:only-of-type {\n",
       "        vertical-align: middle;\n",
       "    }\n",
       "\n",
       "    .dataframe tbody tr th {\n",
       "        vertical-align: top;\n",
       "    }\n",
       "\n",
       "    .dataframe thead th {\n",
       "        text-align: right;\n",
       "    }\n",
       "</style>\n",
       "<table border=\"1\" class=\"dataframe\">\n",
       "  <thead>\n",
       "    <tr style=\"text-align: right;\">\n",
       "      <th></th>\n",
       "      <th>Fire Size</th>\n",
       "      <th>Fire Size Class</th>\n",
       "      <th>Cause Stat</th>\n",
       "      <th>Lat</th>\n",
       "      <th>Lng</th>\n",
       "      <th>State</th>\n",
       "      <th>Reported Date</th>\n",
       "      <th>Resolved Date</th>\n",
       "      <th>Days to Resolve</th>\n",
       "    </tr>\n",
       "  </thead>\n",
       "  <tbody>\n",
       "    <tr>\n",
       "      <th>36</th>\n",
       "      <td>1420.0</td>\n",
       "      <td>F</td>\n",
       "      <td>Lightning</td>\n",
       "      <td>33.241800</td>\n",
       "      <td>-104.912200</td>\n",
       "      <td>NM</td>\n",
       "      <td>1994-07-02</td>\n",
       "      <td>1994-07-03</td>\n",
       "      <td>1 days</td>\n",
       "    </tr>\n",
       "    <tr>\n",
       "      <th>40</th>\n",
       "      <td>5.0</td>\n",
       "      <td>B</td>\n",
       "      <td>Lightning</td>\n",
       "      <td>40.834700</td>\n",
       "      <td>-112.806400</td>\n",
       "      <td>UT</td>\n",
       "      <td>2006-08-14</td>\n",
       "      <td>2006-08-15</td>\n",
       "      <td>1 days</td>\n",
       "    </tr>\n",
       "    <tr>\n",
       "      <th>64</th>\n",
       "      <td>1.5</td>\n",
       "      <td>B</td>\n",
       "      <td>Lightning</td>\n",
       "      <td>39.205000</td>\n",
       "      <td>-105.188333</td>\n",
       "      <td>CO</td>\n",
       "      <td>1996-07-31</td>\n",
       "      <td>1996-08-01</td>\n",
       "      <td>1 days</td>\n",
       "    </tr>\n",
       "    <tr>\n",
       "      <th>79</th>\n",
       "      <td>2.5</td>\n",
       "      <td>B</td>\n",
       "      <td>Lightning</td>\n",
       "      <td>42.364444</td>\n",
       "      <td>-112.232222</td>\n",
       "      <td>ID</td>\n",
       "      <td>2006-07-25</td>\n",
       "      <td>2006-07-26</td>\n",
       "      <td>1 days</td>\n",
       "    </tr>\n",
       "    <tr>\n",
       "      <th>84</th>\n",
       "      <td>108.0</td>\n",
       "      <td>D</td>\n",
       "      <td>Lightning</td>\n",
       "      <td>63.851700</td>\n",
       "      <td>-150.354300</td>\n",
       "      <td>AK</td>\n",
       "      <td>1997-07-01</td>\n",
       "      <td>1997-07-27</td>\n",
       "      <td>26 days</td>\n",
       "    </tr>\n",
       "    <tr>\n",
       "      <th>...</th>\n",
       "      <td>...</td>\n",
       "      <td>...</td>\n",
       "      <td>...</td>\n",
       "      <td>...</td>\n",
       "      <td>...</td>\n",
       "      <td>...</td>\n",
       "      <td>...</td>\n",
       "      <td>...</td>\n",
       "      <td>...</td>\n",
       "    </tr>\n",
       "    <tr>\n",
       "      <th>55327</th>\n",
       "      <td>4472.0</td>\n",
       "      <td>F</td>\n",
       "      <td>Lightning</td>\n",
       "      <td>47.334000</td>\n",
       "      <td>-108.364200</td>\n",
       "      <td>MT</td>\n",
       "      <td>2015-08-15</td>\n",
       "      <td>2015-08-22</td>\n",
       "      <td>7 days</td>\n",
       "    </tr>\n",
       "    <tr>\n",
       "      <th>55328</th>\n",
       "      <td>20621.0</td>\n",
       "      <td>G</td>\n",
       "      <td>Lightning</td>\n",
       "      <td>44.319170</td>\n",
       "      <td>-118.102500</td>\n",
       "      <td>OR</td>\n",
       "      <td>2015-08-14</td>\n",
       "      <td>2015-09-28</td>\n",
       "      <td>45 days</td>\n",
       "    </tr>\n",
       "    <tr>\n",
       "      <th>55329</th>\n",
       "      <td>49100.0</td>\n",
       "      <td>G</td>\n",
       "      <td>Lightning</td>\n",
       "      <td>44.505000</td>\n",
       "      <td>-117.643060</td>\n",
       "      <td>OR</td>\n",
       "      <td>2015-08-11</td>\n",
       "      <td>2015-10-21</td>\n",
       "      <td>71 days</td>\n",
       "    </tr>\n",
       "    <tr>\n",
       "      <th>55330</th>\n",
       "      <td>9211.0</td>\n",
       "      <td>G</td>\n",
       "      <td>Lightning</td>\n",
       "      <td>44.237000</td>\n",
       "      <td>-118.992700</td>\n",
       "      <td>OR</td>\n",
       "      <td>2015-08-12</td>\n",
       "      <td>2015-11-05</td>\n",
       "      <td>85 days</td>\n",
       "    </tr>\n",
       "    <tr>\n",
       "      <th>55331</th>\n",
       "      <td>3082.0</td>\n",
       "      <td>F</td>\n",
       "      <td>Lightning</td>\n",
       "      <td>48.383600</td>\n",
       "      <td>-117.891900</td>\n",
       "      <td>WA</td>\n",
       "      <td>2015-08-14</td>\n",
       "      <td>2015-12-03</td>\n",
       "      <td>111 days</td>\n",
       "    </tr>\n",
       "  </tbody>\n",
       "</table>\n",
       "<p>6165 rows × 9 columns</p>\n",
       "</div>"
      ],
      "text/plain": [
       "       Fire Size Fire Size Class Cause Stat        Lat         Lng State  \\\n",
       "36        1420.0               F  Lightning  33.241800 -104.912200    NM   \n",
       "40           5.0               B  Lightning  40.834700 -112.806400    UT   \n",
       "64           1.5               B  Lightning  39.205000 -105.188333    CO   \n",
       "79           2.5               B  Lightning  42.364444 -112.232222    ID   \n",
       "84         108.0               D  Lightning  63.851700 -150.354300    AK   \n",
       "...          ...             ...        ...        ...         ...   ...   \n",
       "55327     4472.0               F  Lightning  47.334000 -108.364200    MT   \n",
       "55328    20621.0               G  Lightning  44.319170 -118.102500    OR   \n",
       "55329    49100.0               G  Lightning  44.505000 -117.643060    OR   \n",
       "55330     9211.0               G  Lightning  44.237000 -118.992700    OR   \n",
       "55331     3082.0               F  Lightning  48.383600 -117.891900    WA   \n",
       "\n",
       "      Reported Date Resolved Date Days to Resolve  \n",
       "36       1994-07-02    1994-07-03          1 days  \n",
       "40       2006-08-14    2006-08-15          1 days  \n",
       "64       1996-07-31    1996-08-01          1 days  \n",
       "79       2006-07-25    2006-07-26          1 days  \n",
       "84       1997-07-01    1997-07-27         26 days  \n",
       "...             ...           ...             ...  \n",
       "55327    2015-08-15    2015-08-22          7 days  \n",
       "55328    2015-08-14    2015-09-28         45 days  \n",
       "55329    2015-08-11    2015-10-21         71 days  \n",
       "55330    2015-08-12    2015-11-05         85 days  \n",
       "55331    2015-08-14    2015-12-03        111 days  \n",
       "\n",
       "[6165 rows x 9 columns]"
      ]
     },
     "execution_count": 11,
     "metadata": {},
     "output_type": "execute_result"
    }
   ],
   "source": [
    "# Renaming columns\n",
    "df4 = df3.rename(columns={\n",
    "    \"fire_size\": \"Fire Size\" ,\n",
    "    \"fire_size_class\": \"Fire Size Class\",\n",
    "    \"stat_cause_descr\": \"Cause Stat\",\n",
    "    \"latitude\": \"Lat\",\n",
    "    \"longitude\": \"Lng\",\n",
    "    \"state\": \"State\",\n",
    "    \"disc_date_final\": \"Reported Date\",\n",
    "    \"cont_date_final\": \"Resolved Date\",\n",
    "    \"putout_days\": \"Days to Resolve\" \n",
    "})\n",
    "df4"
   ]
  },
  {
   "cell_type": "markdown",
   "id": "3179a19d-0a8b-4ef2-9c72-ca936af4c2ab",
   "metadata": {},
   "source": [
    "# Heatmap of Fire Size"
   ]
  },
  {
   "cell_type": "code",
   "execution_count": 12,
   "id": "a98a6f14-6522-494f-8f7b-d9c983d92eac",
   "metadata": {},
   "outputs": [],
   "source": [
    "# Configure gmaps with API key\n",
    "gmaps.configure(api_key=gkey)"
   ]
  },
  {
   "cell_type": "markdown",
   "id": "293f0dcc-e81a-4c94-b8a7-6f40f84af0a1",
   "metadata": {},
   "source": [
    "- Convert Lat and Lng into a varable named locations cast datatype as float\n",
    "- Convert Fire Size into a varable named fire_size cast datatype as float"
   ]
  },
  {
   "cell_type": "code",
   "execution_count": 16,
   "id": "6af05d0a-991d-4aef-b82d-07ebc5e4b4a1",
   "metadata": {},
   "outputs": [],
   "source": [
    "# Store 'Lat' and 'Lng' into  locations \n",
    "locations = df4[[\"Lat\", \"Lng\"]].astype(float)\n",
    "\n",
    "# Convert Fire Size to float and store\n",
    "fire_size = df4[\"Fire Size\"].astype(float)"
   ]
  },
  {
   "cell_type": "code",
   "execution_count": null,
   "id": "764ebecc-081d-4f8b-8c4f-871f80fb3902",
   "metadata": {},
   "outputs": [],
   "source": []
  }
 ],
 "metadata": {
  "kernelspec": {
   "display_name": "Python 3",
   "language": "python",
   "name": "python3"
  },
  "language_info": {
   "codemirror_mode": {
    "name": "ipython",
    "version": 3
   },
   "file_extension": ".py",
   "mimetype": "text/x-python",
   "name": "python",
   "nbconvert_exporter": "python",
   "pygments_lexer": "ipython3",
   "version": "3.8.8"
  }
 },
 "nbformat": 4,
 "nbformat_minor": 5
}
