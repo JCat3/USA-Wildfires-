{
 "cells": [
  {
   "cell_type": "markdown",
   "id": "27b38187-98aa-4fcb-bc6b-00aaae39cf97",
   "metadata": {},
   "source": [
    "# Lighting Wildfires"
   ]
  },
  {
   "cell_type": "markdown",
   "id": "aff9ebde-407d-420c-a99b-a9ad206f96d5",
   "metadata": {},
   "source": [
    "#### Dependencies"
   ]
  },
  {
   "cell_type": "code",
   "execution_count": 1,
   "id": "1738c060-7b78-4a8c-bb2e-d2da26cfc628",
   "metadata": {},
   "outputs": [],
   "source": [
    "from config import gkey\n",
    "import gmaps\n",
    "import numpy as np\n",
    "import pandas as pd\n",
    "import requests\n",
    "from datetime import datetime as dt\n",
    "from datetime import timedelta as td\n",
    "import time\n",
    "from scipy.stats import linregress\n",
    "from matplotlib import pyplot as plt"
   ]
  },
  {
   "cell_type": "markdown",
   "id": "4fb4bb7b-89a6-4f67-9c81-2731eae2a97c",
   "metadata": {},
   "source": [
    "## Create DataFrame from csv \n",
    "Selecting perferred column to speed up compute time"
   ]
  },
  {
   "cell_type": "code",
   "execution_count": 2,
   "id": "c002b338-9c94-4fa2-aa80-382cd6932e60",
   "metadata": {},
   "outputs": [
    {
     "name": "stdout",
     "output_type": "stream",
     "text": [
      "(55367, 43)\n",
      "(55367, 8)\n",
      "(8218, 8)\n"
     ]
    }
   ],
   "source": [
    "# Raw Data\n",
    "raw_data = pd.read_csv(\"./Wildfire Data/FW_Veg_Rem_Combined.csv\")\n",
    "print(raw_data.shape)\n",
    "\n",
    "# Only selecting the columns that i want\n",
    "df1 = raw_data[['fire_size', 'fire_size_class', 'stat_cause_descr', 'latitude', 'longitude', 'state', 'disc_date_final', 'cont_date_final' ]]\n",
    "print(df1.shape)\n",
    "\n",
    "# Filtering for 'lighting'\n",
    "df2 = df1.loc[df1['stat_cause_descr'] == 'Lightning',:].copy()\n",
    "print(df2.shape)"
   ]
  },
  {
   "cell_type": "markdown",
   "id": "c21ee2b1-cbf5-4c52-ba8b-981bac9c128c",
   "metadata": {},
   "source": [
    "## Converting date columns to datetime\n",
    "Creating putout_days columns by taking disc_date_final from cont_date_final"
   ]
  },
  {
   "cell_type": "code",
   "execution_count": 3,
   "id": "9201c566-f58f-4317-ae1b-392844e2b7c5",
   "metadata": {},
   "outputs": [
    {
     "data": {
      "text/plain": [
       "fire_size           8218\n",
       "fire_size_class     8218\n",
       "stat_cause_descr    8218\n",
       "latitude            8218\n",
       "longitude           8218\n",
       "state               8218\n",
       "disc_date_final     6497\n",
       "cont_date_final     6181\n",
       "putout_days         6165\n",
       "dtype: int64"
      ]
     },
     "execution_count": 3,
     "metadata": {},
     "output_type": "execute_result"
    }
   ],
   "source": [
    "df2['disc_date_final'] = pd.to_datetime(df2['disc_date_final']).dt.date.copy()\n",
    "df2['cont_date_final'] = pd.to_datetime(df2['cont_date_final']).dt.date.copy()\n",
    "df2['putout_days'] = df2['cont_date_final'] - df2['disc_date_final']\n",
    "df2.count()"
   ]
  },
  {
   "cell_type": "markdown",
   "id": "a249a356-0092-4280-a40a-b0bca97db035",
   "metadata": {},
   "source": [
    "## Dropping all row with NULL/NAT value in the datetime columns"
   ]
  },
  {
   "cell_type": "code",
   "execution_count": 4,
   "id": "e76a389b-f4b5-4097-84ac-6724adc6b0de",
   "metadata": {},
   "outputs": [
    {
     "data": {
      "text/plain": [
       "fire_size           6165\n",
       "fire_size_class     6165\n",
       "stat_cause_descr    6165\n",
       "latitude            6165\n",
       "longitude           6165\n",
       "state               6165\n",
       "disc_date_final     6165\n",
       "cont_date_final     6165\n",
       "putout_days         6165\n",
       "dtype: int64"
      ]
     },
     "execution_count": 4,
     "metadata": {},
     "output_type": "execute_result"
    }
   ],
   "source": [
    "df3 = df2\n",
    "df3.dropna(inplace=True)\n",
    "df3.count()"
   ]
  },
  {
   "cell_type": "code",
   "execution_count": 7,
   "id": "16d56834-e28f-4b52-adbf-f798f916cc14",
   "metadata": {},
   "outputs": [
    {
     "ename": "FileNotFoundError",
     "evalue": "[Errno 2] No such file or directory: '../../resources - kdmcc/assets/dataKd/lightingFireRaw.csv'",
     "output_type": "error",
     "traceback": [
      "\u001b[1;31m---------------------------------------------------------------------------\u001b[0m",
      "\u001b[1;31mFileNotFoundError\u001b[0m                         Traceback (most recent call last)",
      "\u001b[1;32m<ipython-input-7-8fbaf41d8baa>\u001b[0m in \u001b[0;36m<module>\u001b[1;34m\u001b[0m\n\u001b[1;32m----> 1\u001b[1;33m \u001b[0mdf3\u001b[0m\u001b[1;33m.\u001b[0m\u001b[0mto_csv\u001b[0m\u001b[1;33m(\u001b[0m\u001b[1;34m\"../../resources - kdmcc/assets/dataKd/lightingFireRaw.csv\"\u001b[0m\u001b[1;33m,\u001b[0m \u001b[0mindex\u001b[0m\u001b[1;33m=\u001b[0m\u001b[1;32mFalse\u001b[0m\u001b[1;33m)\u001b[0m\u001b[1;33m\u001b[0m\u001b[1;33m\u001b[0m\u001b[0m\n\u001b[0m",
      "\u001b[1;32m~\\anaconda3\\lib\\site-packages\\pandas\\core\\generic.py\u001b[0m in \u001b[0;36mto_csv\u001b[1;34m(self, path_or_buf, sep, na_rep, float_format, columns, header, index, index_label, mode, encoding, compression, quoting, quotechar, line_terminator, chunksize, date_format, doublequote, escapechar, decimal, errors, storage_options)\u001b[0m\n\u001b[0;32m   3385\u001b[0m         )\n\u001b[0;32m   3386\u001b[0m \u001b[1;33m\u001b[0m\u001b[0m\n\u001b[1;32m-> 3387\u001b[1;33m         return DataFrameRenderer(formatter).to_csv(\n\u001b[0m\u001b[0;32m   3388\u001b[0m             \u001b[0mpath_or_buf\u001b[0m\u001b[1;33m,\u001b[0m\u001b[1;33m\u001b[0m\u001b[1;33m\u001b[0m\u001b[0m\n\u001b[0;32m   3389\u001b[0m             \u001b[0mline_terminator\u001b[0m\u001b[1;33m=\u001b[0m\u001b[0mline_terminator\u001b[0m\u001b[1;33m,\u001b[0m\u001b[1;33m\u001b[0m\u001b[1;33m\u001b[0m\u001b[0m\n",
      "\u001b[1;32m~\\anaconda3\\lib\\site-packages\\pandas\\io\\formats\\format.py\u001b[0m in \u001b[0;36mto_csv\u001b[1;34m(self, path_or_buf, encoding, sep, columns, index_label, mode, compression, quoting, quotechar, line_terminator, chunksize, date_format, doublequote, escapechar, errors, storage_options)\u001b[0m\n\u001b[0;32m   1081\u001b[0m             \u001b[0mformatter\u001b[0m\u001b[1;33m=\u001b[0m\u001b[0mself\u001b[0m\u001b[1;33m.\u001b[0m\u001b[0mfmt\u001b[0m\u001b[1;33m,\u001b[0m\u001b[1;33m\u001b[0m\u001b[1;33m\u001b[0m\u001b[0m\n\u001b[0;32m   1082\u001b[0m         )\n\u001b[1;32m-> 1083\u001b[1;33m         \u001b[0mcsv_formatter\u001b[0m\u001b[1;33m.\u001b[0m\u001b[0msave\u001b[0m\u001b[1;33m(\u001b[0m\u001b[1;33m)\u001b[0m\u001b[1;33m\u001b[0m\u001b[1;33m\u001b[0m\u001b[0m\n\u001b[0m\u001b[0;32m   1084\u001b[0m \u001b[1;33m\u001b[0m\u001b[0m\n\u001b[0;32m   1085\u001b[0m         \u001b[1;32mif\u001b[0m \u001b[0mcreated_buffer\u001b[0m\u001b[1;33m:\u001b[0m\u001b[1;33m\u001b[0m\u001b[1;33m\u001b[0m\u001b[0m\n",
      "\u001b[1;32m~\\anaconda3\\lib\\site-packages\\pandas\\io\\formats\\csvs.py\u001b[0m in \u001b[0;36msave\u001b[1;34m(self)\u001b[0m\n\u001b[0;32m    226\u001b[0m         \"\"\"\n\u001b[0;32m    227\u001b[0m         \u001b[1;31m# apply compression and byte/text conversion\u001b[0m\u001b[1;33m\u001b[0m\u001b[1;33m\u001b[0m\u001b[1;33m\u001b[0m\u001b[0m\n\u001b[1;32m--> 228\u001b[1;33m         with get_handle(\n\u001b[0m\u001b[0;32m    229\u001b[0m             \u001b[0mself\u001b[0m\u001b[1;33m.\u001b[0m\u001b[0mfilepath_or_buffer\u001b[0m\u001b[1;33m,\u001b[0m\u001b[1;33m\u001b[0m\u001b[1;33m\u001b[0m\u001b[0m\n\u001b[0;32m    230\u001b[0m             \u001b[0mself\u001b[0m\u001b[1;33m.\u001b[0m\u001b[0mmode\u001b[0m\u001b[1;33m,\u001b[0m\u001b[1;33m\u001b[0m\u001b[1;33m\u001b[0m\u001b[0m\n",
      "\u001b[1;32m~\\anaconda3\\lib\\site-packages\\pandas\\io\\common.py\u001b[0m in \u001b[0;36mget_handle\u001b[1;34m(path_or_buf, mode, encoding, compression, memory_map, is_text, errors, storage_options)\u001b[0m\n\u001b[0;32m    640\u001b[0m                 \u001b[0merrors\u001b[0m \u001b[1;33m=\u001b[0m \u001b[1;34m\"replace\"\u001b[0m\u001b[1;33m\u001b[0m\u001b[1;33m\u001b[0m\u001b[0m\n\u001b[0;32m    641\u001b[0m             \u001b[1;31m# Encoding\u001b[0m\u001b[1;33m\u001b[0m\u001b[1;33m\u001b[0m\u001b[1;33m\u001b[0m\u001b[0m\n\u001b[1;32m--> 642\u001b[1;33m             handle = open(\n\u001b[0m\u001b[0;32m    643\u001b[0m                 \u001b[0mhandle\u001b[0m\u001b[1;33m,\u001b[0m\u001b[1;33m\u001b[0m\u001b[1;33m\u001b[0m\u001b[0m\n\u001b[0;32m    644\u001b[0m                 \u001b[0mioargs\u001b[0m\u001b[1;33m.\u001b[0m\u001b[0mmode\u001b[0m\u001b[1;33m,\u001b[0m\u001b[1;33m\u001b[0m\u001b[1;33m\u001b[0m\u001b[0m\n",
      "\u001b[1;31mFileNotFoundError\u001b[0m: [Errno 2] No such file or directory: '../../resources - kdmcc/assets/dataKd/lightingFireRaw.csv'"
     ]
    }
   ],
   "source": [
    "df3.to_csv(\"./resources - kdmcc/assets/dataKd/lightingFireRaw.csv\", index=False)"
   ]
  },
  {
   "cell_type": "code",
   "execution_count": null,
   "id": "af38cb07-ca06-485c-a7af-d6b16bdbe00b",
   "metadata": {},
   "outputs": [],
   "source": []
  }
 ],
 "metadata": {
  "kernelspec": {
   "display_name": "Python 3",
   "language": "python",
   "name": "python3"
  },
  "language_info": {
   "codemirror_mode": {
    "name": "ipython",
    "version": 3
   },
   "file_extension": ".py",
   "mimetype": "text/x-python",
   "name": "python",
   "nbconvert_exporter": "python",
   "pygments_lexer": "ipython3",
   "version": "3.8.8"
  }
 },
 "nbformat": 4,
 "nbformat_minor": 5
}
